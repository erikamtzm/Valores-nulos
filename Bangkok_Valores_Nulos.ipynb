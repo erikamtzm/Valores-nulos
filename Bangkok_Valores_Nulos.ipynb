{
 "cells": [
  {
   "cell_type": "code",
   "execution_count": 1,
   "metadata": {},
   "outputs": [],
   "source": [
    "import pandas as pd\n",
    "import numpy as np\n",
    "import matplotlib.pyplot as plt"
   ]
  },
  {
   "cell_type": "code",
   "execution_count": null,
   "metadata": {},
   "outputs": [],
   "source": [
    "#Carga desde un archivo .csv sin índice\n",
    "data = pd.read_csv('Bangkok_ValoresNulos.csv', encoding='latin')\n",
    "data.head(5)"
   ]
  },
  {
   "cell_type": "code",
   "execution_count": null,
   "metadata": {},
   "outputs": [],
   "source": [
    "data.info()"
   ]
  },
  {
   "cell_type": "code",
   "execution_count": 9,
   "metadata": {},
   "outputs": [],
   "source": [
    "pd.options.display.max_rows = None"
   ]
  },
  {
   "cell_type": "code",
   "execution_count": null,
   "metadata": {},
   "outputs": [],
   "source": [
    "#Creo 2 dataframe para poder procesar los outliers\n",
    "# cuantitativas= data1.iloc[ : , 1:23 ]\n",
    "# cualitativas= data1.iloc[ : , [0] ]\n",
    "\n",
    "#Eliminar un signo de una columna\n",
    "# Inmuebles['Columna']=Inmuebles['Columna'].str.replace('%', '')\n",
    "\n",
    "#Analizar categorias de una columna\n",
    "# df6 = data2.groupby(['Tipo'])['Tipo'].count()\n",
    "# df6\n",
    "\n",
    "#Filtro por columnas no consecutivas\n",
    "# filtro3=df.iloc[ : ,  [1,4,5]]    \n",
    "\n",
    "#Filtro por columnas consecutivas\n",
    "# filtro3=df.iloc[ : , 1:3] \n",
    "\n",
    "# Sustituir valores nulos por un string en  concreto\n",
    "# data3[\"Fecha Venta\"] =data3[\"Fecha Venta\"].fillna(\"2030-06-19 00:00:00\") "
   ]
  },
  {
   "cell_type": "code",
   "execution_count": null,
   "metadata": {},
   "outputs": [],
   "source": [
    "#Eliminar columnas innecesarias\n",
    "#axis = 1 para columnas\n",
    "#axis = 0 para filas\n",
    "\n",
    "#data2=data.drop(['0'], axis=1)\n",
    "#data2"
   ]
  },
  {
   "cell_type": "code",
   "execution_count": null,
   "metadata": {},
   "outputs": [],
   "source": [
    "#Identificar valores nulos por columna\n",
    "valores_nulos=data.isnull().sum()\n",
    "valores_nulos"
   ]
  },
  {
   "cell_type": "code",
   "execution_count": 5,
   "metadata": {},
   "outputs": [],
   "source": [
    "#Realizamos una copia del dataframe\n",
    "data3=data.copy()"
   ]
  },
  {
   "cell_type": "code",
   "execution_count": null,
   "metadata": {},
   "outputs": [],
   "source": [
    "#Sustituir valores nulos por un valor numérico en  concreto\n",
    "data[\"host_response_time\"]= data[\"host_response_time\"].fillna('No responde')\n",
    "data"
   ]
  },
  {
   "cell_type": "code",
   "execution_count": null,
   "metadata": {},
   "outputs": [],
   "source": [
    "#Sustituir valores nulos por un valor alfanumérico en  concreto\n",
    "data[\"host_location\"]= data[\"host_location\"].fillna('No info')\n",
    "data"
   ]
  },
  {
   "cell_type": "code",
   "execution_count": 10,
   "metadata": {},
   "outputs": [],
   "source": [
    "#Eliminar un signo de una columna\n",
    "data['host_response_rate']=data['host_response_rate'].str.replace('%', '')\n",
    "data['host_acceptance_rate']=data['host_acceptance_rate'].str.replace('%', '')"
   ]
  },
  {
   "cell_type": "code",
   "execution_count": null,
   "metadata": {},
   "outputs": [],
   "source": [
    "#Tercer método de sustitución de valores nulos\n",
    "#Sustituir valores nulos por un valor numérico en  concreto\n",
    "data[\"host_response_rate\"]= data[\"host_response_rate\"].fillna(0)\n",
    "data[\"host_acceptance_rate\"]= data[\"host_acceptance_rate\"].fillna(0)\n",
    "data"
   ]
  },
  {
   "cell_type": "code",
   "execution_count": 13,
   "metadata": {},
   "outputs": [],
   "source": [
    "#Cuarto método de sustitución de valores nulos\n",
    "#Sustituir valores nulos por un string en  concreto\n",
    "data[\"host_is_superhost\"] =data[\"host_is_superhost\"].fillna(\"f\")"
   ]
  },
  {
   "cell_type": "code",
   "execution_count": 19,
   "metadata": {},
   "outputs": [],
   "source": [
    "#Eliminar un signo de una columna\n",
    "data['price']=data['price'].str.replace('$', '')\n",
    "data['price']=data['price'].str.replace(',', '')\n"
   ]
  },
  {
   "cell_type": "code",
   "execution_count": null,
   "metadata": {},
   "outputs": [],
   "source": [
    "data['price'].head()"
   ]
  },
  {
   "cell_type": "code",
   "execution_count": null,
   "metadata": {},
   "outputs": [],
   "source": [
    "#Conversión de tipo de dato de columna de tipo Object a Float\n",
    "data['price']= data['price'].astype(float)"
   ]
  },
  {
   "cell_type": "code",
   "execution_count": null,
   "metadata": {},
   "outputs": [],
   "source": [
    "#Analizar categorias de una columna\n",
    "data2 = data.groupby(['bathrooms'])['bathrooms'].count()\n",
    "data2"
   ]
  },
  {
   "cell_type": "code",
   "execution_count": 9,
   "metadata": {},
   "outputs": [],
   "source": [
    "#Primer método de sustitución de valores nulos\n",
    "#Sustituir valores nulos con promedio o media\n",
    "data3[\"Superficie\"]=data3[\"Superficie\"].fillna(round(data2[\"Superficie\"].mean(),1))"
   ]
  },
  {
   "cell_type": "code",
   "execution_count": 14,
   "metadata": {},
   "outputs": [
    {
     "data": {
      "text/plain": [
       "id                                0\n",
       "host_since                        0\n",
       "host_location                     0\n",
       "host_response_time                0\n",
       "host_response_rate                0\n",
       "host_acceptance_rate              0\n",
       "host_is_superhost                 0\n",
       "host_has_profile_pic              0\n",
       "host_identity_verified            0\n",
       "property_type                     0\n",
       "room_type                         0\n",
       "accommodates                      0\n",
       "bathrooms                      4962\n",
       "bathrooms_text                  124\n",
       "bedrooms                       1299\n",
       "beds                           4984\n",
       "amenities                         0\n",
       "price                          4921\n",
       "minimum_nights                    0\n",
       "maximum_nights                    0\n",
       "minimum_minimum_nights            0\n",
       "maximum_minimum_nights            0\n",
       "minimum_maximum_nights            0\n",
       "maximum_maximum_nights            0\n",
       "minimum_nights_avg_ntm            0\n",
       "maximum_nights_avg_ntm            0\n",
       "has_availability               2242\n",
       "availability_30                   0\n",
       "availability_60                   0\n",
       "availability_90                   0\n",
       "availability_365                  0\n",
       "number_of_reviews                 0\n",
       "number_of_reviews_ltm             0\n",
       "number_of_reviews_l30d            0\n",
       "first_review                   8939\n",
       "last_review                    8939\n",
       "review_scores_rating           8939\n",
       "review_scores_accuracy         8940\n",
       "review_scores_cleanliness      8941\n",
       "review_scores_checkin          8945\n",
       "review_scores_communication    8941\n",
       "review_scores_location         8946\n",
       "review_scores_value            8947\n",
       "instant_bookable                  0\n",
       "reviews_per_month              8939\n",
       "dtype: int64"
      ]
     },
     "execution_count": 14,
     "metadata": {},
     "output_type": "execute_result"
    }
   ],
   "source": [
    "#Corroboramos valores nulos\n",
    "valores_nulos=data.isnull().sum()\n",
    "valores_nulos"
   ]
  },
  {
   "cell_type": "code",
   "execution_count": 11,
   "metadata": {},
   "outputs": [],
   "source": [
    "#Segundo método de sustitución de valores nulos\n",
    "#Sustituir valores nulos con mediana\n",
    "data3[\"Precio Venta\"]=data3[\"Precio Venta\"].fillna(round(data2[\"Precio Venta\"].median(),1))\n",
    " "
   ]
  },
  {
   "cell_type": "code",
   "execution_count": null,
   "metadata": {},
   "outputs": [],
   "source": [
    "#Corroboramos valores nulos\n",
    "valores_nulos=data3.isnull().sum()\n",
    "valores_nulos"
   ]
  },
  {
   "cell_type": "code",
   "execution_count": null,
   "metadata": {},
   "outputs": [],
   "source": [
    "#Tercer método de sustitución de valores nulos\n",
    "#Sustituir valores nulos por un valor numérico en  concreto\n",
    "data3[\"bathrooms\"]= data3[\"bathrooms\"].fillna(0)\n",
    "data3"
   ]
  },
  {
   "cell_type": "code",
   "execution_count": null,
   "metadata": {},
   "outputs": [],
   "source": [
    "#Corroboramos valores nulos\n",
    "valores_nulos=data.isnull().sum()\n",
    "valores_nulos\n",
    " "
   ]
  },
  {
   "cell_type": "code",
   "execution_count": null,
   "metadata": {},
   "outputs": [],
   "source": [
    "#Tercer método de sustitución de valores nulos\n",
    "#Sustituir valores nulos por un valor numérico en  concreto\n",
    "data3[\"bedrooms\"]= data3[\"bedrooms\"].fillna(0)\n",
    "data3"
   ]
  },
  {
   "cell_type": "code",
   "execution_count": null,
   "metadata": {},
   "outputs": [],
   "source": [
    "#Tercer método de sustitución de valores nulos\n",
    "#Sustituir valores nulos por un valor numérico en  concreto\n",
    "data3[\"beds\"]= data3[\"beds\"].fillna(0)\n",
    "data3"
   ]
  },
  {
   "cell_type": "code",
   "execution_count": 13,
   "metadata": {},
   "outputs": [
    {
     "data": {
      "text/plain": [
       "id                                 0\n",
       "name                               0\n",
       "description                      954\n",
       "neighborhood_overview          14919\n",
       "host_since                         0\n",
       "host_location                   6148\n",
       "host_response_time              4894\n",
       "host_response_rate              4894\n",
       "host_acceptance_rate            4348\n",
       "host_is_superhost                  0\n",
       "host_has_profile_pic               0\n",
       "host_identity_verified             0\n",
       "property_type                      0\n",
       "room_type                          0\n",
       "accommodates                       0\n",
       "bathrooms                          0\n",
       "bathrooms_text                   124\n",
       "bedrooms                           0\n",
       "beds                               0\n",
       "amenities                          0\n",
       "price                           4921\n",
       "minimum_nights                     0\n",
       "maximum_nights                     0\n",
       "minimum_minimum_nights             0\n",
       "maximum_minimum_nights             0\n",
       "minimum_maximum_nights             0\n",
       "maximum_maximum_nights             0\n",
       "minimum_nights_avg_ntm             0\n",
       "maximum_nights_avg_ntm             0\n",
       "has_availability                2242\n",
       "availability_30                    0\n",
       "availability_60                    0\n",
       "availability_90                    0\n",
       "availability_365                   0\n",
       "number_of_reviews                  0\n",
       "number_of_reviews_ltm              0\n",
       "number_of_reviews_l30d             0\n",
       "first_review                    8939\n",
       "last_review                     8939\n",
       "review_scores_rating            8939\n",
       "review_scores_accuracy          8940\n",
       "review_scores_cleanliness       8941\n",
       "review_scores_checkin           8945\n",
       "review_scores_communication     8941\n",
       "review_scores_location          8946\n",
       "review_scores_value             8947\n",
       "instant_bookable                   0\n",
       "reviews_per_month               8939\n",
       "dtype: int64"
      ]
     },
     "execution_count": 13,
     "metadata": {},
     "output_type": "execute_result"
    }
   ],
   "source": [
    "#Corroboramos valores nulos\n",
    "valores_nulos=data3.isnull().sum()\n",
    "valores_nulos"
   ]
  },
  {
   "cell_type": "code",
   "execution_count": null,
   "metadata": {},
   "outputs": [],
   "source": [
    "#Quinto método de sustitución de valores nulos\n",
    "#Sustituir valores nulos por valores no nulos hacia adelante  \"forward fill\" (\"ffill\")\n",
    "#Filtro por columnas\n",
    "data3[\"Tipo\"] =data3[\"Tipo\"].fillna(method=\"ffill\")\n"
   ]
  },
  {
   "cell_type": "code",
   "execution_count": null,
   "metadata": {},
   "outputs": [],
   "source": [
    "#Corroboramos valores nulos\n",
    "valores_nulos=data3.isnull().sum()\n",
    "valores_nulos"
   ]
  },
  {
   "cell_type": "code",
   "execution_count": null,
   "metadata": {},
   "outputs": [],
   "source": [
    "#Sexto método de sustitución de valores nulos\n",
    "#Sustituir valores nulos por valores no nulos hacia atrás backward fill\" (\"bfill\")\n",
    "#Filtro por columnas\n",
    "data3[\"Operación\"] =data3[\"Operación\"].fillna(method=\"bfill\")"
   ]
  },
  {
   "cell_type": "code",
   "execution_count": null,
   "metadata": {},
   "outputs": [],
   "source": [
    "#Corroboramos valores nulos\n",
    "valores_nulos=data3.isnull().sum()\n",
    "valores_nulos"
   ]
  },
  {
   "cell_type": "code",
   "execution_count": null,
   "metadata": {},
   "outputs": [],
   "source": [
    "#Sustituir valores nulos por valores no nulos hacia atrás backward fill\" (\"bfill\")\n",
    "data3[\"Provincia\"] =data3[\"Provincia\"].fillna(method=\"bfill\")\n",
    "#Sustituir valores nulos por valores no nulos hacia adelante forward fill\" (\"ffill\")\n",
    "#Filtro por columnas\n",
    "data3[\"Vendedor\"] =data3[\"Vendedor\"].fillna(method=\"ffill\")"
   ]
  },
  {
   "cell_type": "code",
   "execution_count": null,
   "metadata": {},
   "outputs": [],
   "source": [
    "#Corroboramos valores nulos\n",
    "valores_nulos=data3.isnull().sum()\n",
    "valores_nulos"
   ]
  },
  {
   "cell_type": "code",
   "execution_count": null,
   "metadata": {},
   "outputs": [],
   "source": [
    "#Corroboramos valores nulos\n",
    "valores_nulos=data3.isnull().sum().sum()\n",
    "valores_nulos"
   ]
  },
  {
   "cell_type": "markdown",
   "metadata": {},
   "source": [
    "**Método de Eliminación de valores nulos**"
   ]
  },
  {
   "cell_type": "code",
   "execution_count": null,
   "metadata": {},
   "outputs": [],
   "source": [
    "#Realizamos una copia del dataframe\n",
    "data4=data2.copy()\n",
    "data4"
   ]
  },
  {
   "cell_type": "code",
   "execution_count": null,
   "metadata": {},
   "outputs": [],
   "source": [
    "#Eliminamos filas con nulos\n",
    "#No se agrega nada para eliminar filas y 1 para eliminar columnas\n",
    "data4= data2.dropna()\n",
    "data4\n",
    " "
   ]
  },
  {
   "cell_type": "code",
   "execution_count": null,
   "metadata": {},
   "outputs": [],
   "source": [
    "#Corroboramos valores nulos\n",
    "valores_nulos=data4.isnull().sum().sum()\n",
    "valores_nulos\n",
    " "
   ]
  },
  {
   "cell_type": "markdown",
   "metadata": {},
   "source": [
    "**Comparamos DataFrame3(Sustitución) y Dataframe4(Eliminación)**"
   ]
  },
  {
   "cell_type": "code",
   "execution_count": null,
   "metadata": {},
   "outputs": [],
   "source": [
    "data3.info()"
   ]
  },
  {
   "cell_type": "code",
   "execution_count": null,
   "metadata": {},
   "outputs": [],
   "source": [
    "data4.info()"
   ]
  },
  {
   "cell_type": "code",
   "execution_count": 31,
   "metadata": {},
   "outputs": [],
   "source": [
    "#Convertir DataFrame a CSV\n",
    "data3.to_csv(\"inmuebles_sin_nulos.csv\")"
   ]
  }
 ],
 "metadata": {
  "kernelspec": {
   "display_name": "Python 3",
   "language": "python",
   "name": "python3"
  },
  "language_info": {
   "codemirror_mode": {
    "name": "ipython",
    "version": 3
   },
   "file_extension": ".py",
   "mimetype": "text/x-python",
   "name": "python",
   "nbconvert_exporter": "python",
   "pygments_lexer": "ipython3",
   "version": "3.13.1"
  }
 },
 "nbformat": 4,
 "nbformat_minor": 2
}
